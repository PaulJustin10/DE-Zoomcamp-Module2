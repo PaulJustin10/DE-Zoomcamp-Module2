{
 "cells": [
  {
   "cell_type": "code",
   "execution_count": 8,
   "id": "b6e6de60",
   "metadata": {},
   "outputs": [
    {
     "name": "stdout",
     "output_type": "stream",
     "text": [
      "Schema for the database:\n",
      "VendorID                   int64\n",
      "lpep_pickup_datetime      object\n",
      "lpep_dropoff_datetime     object\n",
      "store_and_fwd_flag        object\n",
      "RatecodeID                 int64\n",
      "PULocationID               int64\n",
      "DOLocationID               int64\n",
      "passenger_count            int64\n",
      "trip_distance            float64\n",
      "fare_amount              float64\n",
      "extra                    float64\n",
      "mta_tax                  float64\n",
      "tip_amount               float64\n",
      "tolls_amount             float64\n",
      "ehail_fee                float64\n",
      "improvement_surcharge    float64\n",
      "total_amount             float64\n",
      "payment_type               int64\n",
      "trip_type                  int64\n",
      "congestion_surcharge     float64\n",
      "dtype: object\n"
     ]
    }
   ],
   "source": [
    "import pandas as pd\n",
    "\n",
    "# Define the URL of the CSV file\n",
    "url = \"https://github.com/DataTalksClub/nyc-tlc-data/releases/download/green/green_tripdata_2020-10.csv.gz\"\n",
    "\n",
    "# Read only the first row (header) of the CSV file to get the schema\n",
    "df = pd.read_csv(url, compression='gzip', nrows=100)\n",
    "\n",
    "# Print the schema\n",
    "print(\"Schema for the database:\")\n",
    "print(df.dtypes)"
   ]
  },
  {
   "cell_type": "code",
   "execution_count": 3,
   "id": "ff0a1561",
   "metadata": {},
   "outputs": [],
   "source": [
    "import pandas as pd\n"
   ]
  },
  {
   "cell_type": "code",
   "execution_count": 9,
   "id": "c9b6ed3a",
   "metadata": {},
   "outputs": [
    {
     "name": "stdout",
     "output_type": "stream",
     "text": [
      "    VendorID lpep_pickup_datetime lpep_dropoff_datetime store_and_fwd_flag  \\\n",
      "0          2  2020-10-01 00:31:19   2020-10-01 00:34:55                  N   \n",
      "1          2  2020-10-01 00:42:12   2020-10-01 00:43:51                  N   \n",
      "2          2  2020-10-01 00:53:09   2020-10-01 00:55:39                  N   \n",
      "3          1  2020-10-01 00:12:29   2020-10-01 00:20:08                  N   \n",
      "4          1  2020-10-01 00:32:38   2020-10-01 00:43:02                  N   \n",
      "..       ...                  ...                   ...                ...   \n",
      "95         2  2020-10-01 06:47:55   2020-10-01 06:55:20                  N   \n",
      "96         2  2020-10-01 06:37:50   2020-10-01 06:45:43                  N   \n",
      "97         2  2020-10-01 06:53:27   2020-10-01 07:00:31                  N   \n",
      "98         2  2020-10-01 06:10:54   2020-10-01 06:18:55                  N   \n",
      "99         2  2020-10-01 06:29:08   2020-10-01 06:46:02                  N   \n",
      "\n",
      "    RatecodeID  PULocationID  DOLocationID  passenger_count  trip_distance  \\\n",
      "0            1             7             7                1           0.79   \n",
      "1            1           179             7                1           0.50   \n",
      "2            1           179           223                1           0.60   \n",
      "3            1           134           216                2           4.40   \n",
      "4            1            82             7                1           2.90   \n",
      "..         ...           ...           ...              ...            ...   \n",
      "95           1            74            75                6           1.44   \n",
      "96           1            74            75                1           1.40   \n",
      "97           1            74           166                1           1.70   \n",
      "98           1            74           236                1           1.49   \n",
      "99           1            74           140                1           3.47   \n",
      "\n",
      "    fare_amount  extra  mta_tax  tip_amount  tolls_amount  ehail_fee  \\\n",
      "0           5.0    0.5      0.5        1.58           0.0        NaN   \n",
      "1           4.0    0.5      0.5        0.00           0.0        NaN   \n",
      "2           4.0    0.5      0.5        1.06           0.0        NaN   \n",
      "3          13.5    0.5      0.5        0.00           0.0        NaN   \n",
      "4          10.5    0.5      0.5        0.00           0.0        NaN   \n",
      "..          ...    ...      ...         ...           ...        ...   \n",
      "95          7.5    0.0      0.5        0.00           0.0        NaN   \n",
      "96          7.0    0.0      0.5        1.56           0.0        NaN   \n",
      "97          7.5    0.0      0.5        1.24           0.0        NaN   \n",
      "98          7.5    0.0      0.5        1.00           0.0        NaN   \n",
      "99         14.0    0.0      0.5        2.00           0.0        NaN   \n",
      "\n",
      "    improvement_surcharge  total_amount  payment_type  trip_type  \\\n",
      "0                     0.3          7.88             1          1   \n",
      "1                     0.3          5.30             2          1   \n",
      "2                     0.3          6.36             1          1   \n",
      "3                     0.3         14.80             2          1   \n",
      "4                     0.3         11.80             2          1   \n",
      "..                    ...           ...           ...        ...   \n",
      "95                    0.3          8.30             2          1   \n",
      "96                    0.3          9.36             1          1   \n",
      "97                    0.3          9.54             1          1   \n",
      "98                    0.3          9.30             1          1   \n",
      "99                    0.3         19.55             1          1   \n",
      "\n",
      "    congestion_surcharge  \n",
      "0                   0.00  \n",
      "1                   0.00  \n",
      "2                   0.00  \n",
      "3                   0.00  \n",
      "4                   0.00  \n",
      "..                   ...  \n",
      "95                  0.00  \n",
      "96                  0.00  \n",
      "97                  0.00  \n",
      "98                  0.00  \n",
      "99                  2.75  \n",
      "\n",
      "[100 rows x 20 columns]\n"
     ]
    }
   ],
   "source": [
    "print(df)"
   ]
  },
  {
   "cell_type": "code",
   "execution_count": null,
   "id": "4a913c84",
   "metadata": {},
   "outputs": [],
   "source": []
  }
 ],
 "metadata": {
  "kernelspec": {
   "display_name": "Python 3 (ipykernel)",
   "language": "python",
   "name": "python3"
  },
  "language_info": {
   "codemirror_mode": {
    "name": "ipython",
    "version": 3
   },
   "file_extension": ".py",
   "mimetype": "text/x-python",
   "name": "python",
   "nbconvert_exporter": "python",
   "pygments_lexer": "ipython3",
   "version": "3.11.5"
  }
 },
 "nbformat": 4,
 "nbformat_minor": 5
}
